{
 "cells": [
  {
   "cell_type": "code",
   "execution_count": null,
   "id": "37a7c652",
   "metadata": {},
   "outputs": [],
   "source": [
    "import imutils\n",
    "def pyramid(image, scale=1.5, minSize=(30, 30)):\n",
    "\t# yield the original image\n",
    "\tyield image\n",
    "\t# keep looping over the pyramid\n",
    "\twhile True:\n",
    "\t\t# compute the new dimensions of the image and resize it\n",
    "\t\tw = int(image.shape[1] / scale)\n",
    "\t\timage = imutils.resize(image, width=w)\n",
    "\t\t# if the resized image does not meet the supplied minimum\n",
    "\t\t# size, then stop constructing the pyramid\n",
    "\t\tif image.shape[0] < minSize[1] or image.shape[1] < minSize[0]:\n",
    "\t\t\tbreak\n",
    "\t\t# yield the next image in the pyramid\n",
    "\t\tyield image\n",
    "def sliding_window(image, stepSize, windowSize):\n",
    "\t# slide a window across the image\n",
    "\tfor y in range(0, image.shape[0], stepSize):\n",
    "\t\tfor x in range(0, image.shape[1], stepSize):\n",
    "\t\t\t# yield the current window\n",
    "\t\t\tyield (x, y, image[y:y + windowSize[1], x:x + windowSize[0]])"
   ]
  },
  {
   "cell_type": "code",
   "execution_count": null,
   "id": "5b69c872",
   "metadata": {},
   "outputs": [],
   "source": [
    "#import pyramid as py\n",
    "#import sliding_window as sw\n",
    "\n",
    "import time\n",
    "import cv2\n",
    "# load the image and define the window width and height\n",
    "image = cv2.imread(\"F:\\\\internship\\\\weld bead\\\\5.jpg\")\n",
    "(winW, winH) = (128, 128)"
   ]
  },
  {
   "cell_type": "code",
   "execution_count": null,
   "id": "3f08a45b",
   "metadata": {},
   "outputs": [],
   "source": [
    "for resized in pyramid(image, scale=2):\n",
    "    \n",
    "    # loop over the sliding window for each layer of the pyramid\n",
    "    for (x, y, window) in sliding_window(resized, stepSize=36, windowSize=(winW, winH)):\n",
    "        # if the window does not meet our desired window size, ignore it\n",
    "        if window.shape[0] != winH or window.shape[1] != winW:\n",
    "            continue\n",
    "    # THIS IS WHERE YOU WOULD PROCESS YOUR WINDOW, SUCH AS APPLYING A\n",
    "    # MACHINE LEARNING CLASSIFIER TO CLASSIFY THE CONTENTS OF THE\n",
    "    # WINDOW\n",
    "    # since we do not have a classifier, we'll just draw the window\n",
    "        clone = resized.copy()\n",
    "        cv2.rectangle(clone, (x, y), (x + winW, y + winH), (0, 255, 0), 2)\n",
    "        cv2.imshow(\"Window\", clone)\n",
    "        if cv2.waitKey(0) & 0xFF == ord('q'):\n",
    "            cv2.destroyAllWindows()\n",
    "            time.sleep(0.025)"
   ]
  },
  {
   "cell_type": "markdown",
   "id": "8f756c45",
   "metadata": {},
   "source": [
    "# ROI"
   ]
  },
  {
   "cell_type": "code",
   "execution_count": null,
   "id": "9ced5fe8",
   "metadata": {},
   "outputs": [],
   "source": [
    " \n",
    "import cv2\n",
    "#img_path=\"image.jpeg\"\n",
    "\n",
    "#read image\n",
    "img_raw = cv2.imread('F:\\\\internship\\\\weld bead\\\\5.jpg')\n",
    "\n",
    "#select ROI function\n",
    "roi = cv2.selectROI(img_raw)\n",
    "\n",
    "#print rectangle points of selected roi\n",
    "print(roi)\n",
    "\n",
    "#Crop selected roi from raw image\n",
    "roi_cropped = img_raw[int(roi[1]):int(roi[1]+roi[3]), int(roi[0]):int(roi[0]+roi[2])]\n",
    "\n",
    "#show cropped image\n",
    "cv2.imshow(\"ROI\", roi_cropped)\n",
    "\n",
    "cv2.imwrite(\"crop.jpeg\",roi_cropped)\n",
    "if cv2.waitKey(0) & 0xFF == ord('q'):\n",
    "    cv2.destroyAllWindows()\n",
    "#hold window\n"
   ]
  },
  {
   "cell_type": "code",
   "execution_count": null,
   "id": "b1b7e412",
   "metadata": {},
   "outputs": [],
   "source": [
    "import cv2\n",
    "import numpy as np\n",
    "\n",
    " #image_path\n",
    "img_path=\"F:\\\\internship\\\\weld bead\\\\5.jpg\"\n",
    "\n",
    "#read image\n",
    "img_raw = cv2.imread(img_path)\n",
    "\n",
    "#select ROIs function\n",
    "ROIs = cv2.selectROIs(\"Select Rois\",img_raw)\n",
    "\n",
    "#print rectangle points of selected roi\n",
    "print(ROIs)\n",
    "\n",
    "#Crop selected roi ffrom raw image\n",
    "\n",
    "#counter to save image with different name\n",
    "crop_number=0 \n",
    "\n",
    "#loop over every bounding box save in array \"ROIs\"\n",
    "for rect in ROIs:\n",
    "    x1=rect[0]\n",
    "    y1=rect[1]\n",
    "    x2=rect[2]\n",
    "    y2=rect[3]\n",
    "\n",
    "        #crop roi from original image\n",
    "\n",
    "    img_crop=img_raw[y1:y1+y2,x1:x1+x2]\n",
    "\n",
    "        #show cropped image\n",
    "    cv2.imshow(\"crop\"+str(crop_number),img_crop)\n",
    "\n",
    "\t#save cropped image\n",
    "    cv2.imwrite(\"crop\"+str(crop_number)+\".jpeg\",img_crop)\n",
    "        \n",
    "    crop_number+=1\n",
    "\n",
    "#hold window\n",
    "cv2.waitKey(0)"
   ]
  },
  {
   "cell_type": "code",
   "execution_count": null,
   "id": "ba504c82",
   "metadata": {},
   "outputs": [],
   "source": [
    "import cv2\n",
    "import numpy as np\n",
    "\n",
    "if __name__ == '__main__' :\n",
    "\n",
    "    # Read image\n",
    "    im = cv2.imread(\"F:\\\\internship\\\\weld bead\\\\5.jpg\")\n",
    "\n",
    "    # Select ROI\n",
    "    r = cv2.selectROI(im)\n",
    "\n",
    "    # Crop image\n",
    "    imCrop = im[int(r[1]):int(r[1]+r[3]), int(r[0]):int(r[0]+r[2])]\n",
    "\n",
    "    # Display cropped image\n",
    "    cv2.imshow(\"Image\", imCrop)\n",
    "    cv2.waitKey(0)"
   ]
  },
  {
   "cell_type": "code",
   "execution_count": null,
   "id": "cf097195",
   "metadata": {},
   "outputs": [],
   "source": [
    "fromCenter = False\n",
    "r = cv2.selectROI(im, fromCenter)\n"
   ]
  },
  {
   "cell_type": "code",
   "execution_count": null,
   "id": "909aa29b",
   "metadata": {},
   "outputs": [],
   "source": [
    "fromCenter = False\n",
    "r = cv2.selectROI(\"Image\", im, fromCenter)\n"
   ]
  },
  {
   "cell_type": "code",
   "execution_count": null,
   "id": "6680dcb2",
   "metadata": {},
   "outputs": [],
   "source": []
  },
  {
   "cell_type": "code",
   "execution_count": 2,
   "id": "c978fd28",
   "metadata": {},
   "outputs": [],
   "source": [
    "import cv2\n",
    "import numpy"
   ]
  },
  {
   "cell_type": "code",
   "execution_count": 3,
   "id": "0ef794c0",
   "metadata": {},
   "outputs": [],
   "source": [
    "img_raw=cv2.imread(\"F:\\\\internship\\\\weld bead\\\\5.jpg\")"
   ]
  },
  {
   "cell_type": "code",
   "execution_count": null,
   "id": "765af549",
   "metadata": {},
   "outputs": [],
   "source": [
    "roi=cv2.selectROI(img_raw)\n",
    "roi_cropped=img_raw[int(roi[1]):int(roi[1]+roi[3]), int(roi[0]):int(roi[0]+roi[2])]\n",
    "if cv2.waitKey(0) & 0xFF == ord('q'):\n",
    "    cv2.destroyAllWindows()\n",
    "    cv2.waitKey(0)"
   ]
  },
  {
   "cell_type": "code",
   "execution_count": null,
   "id": "7ad3207a",
   "metadata": {},
   "outputs": [],
   "source": [
    "cv2.imshow(“ROI”,roi_cropped)"
   ]
  },
  {
   "cell_type": "code",
   "execution_count": null,
   "id": "cd543394",
   "metadata": {},
   "outputs": [],
   "source": []
  },
  {
   "cell_type": "markdown",
   "id": "6ffe66e1",
   "metadata": {},
   "source": [
    "# Python cv2 mouse click in the picture to get the pixel coordinates"
   ]
  },
  {
   "cell_type": "code",
   "execution_count": 1,
   "id": "16cc7ce3",
   "metadata": {},
   "outputs": [
    {
     "name": "stdout",
     "output_type": "stream",
     "text": [
      "19 39\n",
      "56 44\n",
      "148 54\n",
      "148 54\n",
      "182 85\n",
      "204 103\n",
      "280 122\n",
      "98 123\n",
      "73 95\n",
      "117 35\n",
      "19 39\n"
     ]
    }
   ],
   "source": [
    "\n",
    "import cv2\n",
    "import numpy as np\n",
    " \n",
    "# Picture path\n",
    "img = cv2.imread('F:\\internship\\weld bead\\\\5.jpg')\n",
    "a = []\n",
    "b = []\n",
    " \n",
    "def on_EVENT_LBUTTONDOWN(event, x, y, flags, param):\n",
    "    if event == cv2.EVENT_LBUTTONDOWN:\n",
    "        xy = \"%d,%d\" % (x, y)\n",
    "        a.append(x)\n",
    "        b.append(y)\n",
    "        cv2.circle(img, (x, y), 1, (0, 0, 255), thickness=-1)\n",
    "        cv2.putText(img, xy, (x, y), cv2.FONT_HERSHEY_PLAIN,\n",
    "                    1.0, (0, 0, 0), thickness=1)\n",
    "        cv2.imshow(\"image\", img)\n",
    "        print(x,y)\n",
    " \n",
    " \n",
    "cv2.namedWindow(\"image\")\n",
    "cv2.setMouseCallback(\"image\", on_EVENT_LBUTTONDOWN)\n",
    "cv2.imshow(\"image\", img)\n",
    "cv2.waitKey(0)\n",
    "print(a[0], b[0])\n"
   ]
  },
  {
   "cell_type": "code",
   "execution_count": null,
   "id": "037ca975",
   "metadata": {},
   "outputs": [],
   "source": []
  },
  {
   "cell_type": "code",
   "execution_count": null,
   "id": "8816b502",
   "metadata": {},
   "outputs": [],
   "source": [
    "import cv2\n",
    "import numpy as np\n",
    "from skimage.morphology import rectangle\n",
    "import skimage.filters as filters\n",
    "\n",
    "# Variance = mean of square of image - square of mean of image\n",
    "# See # see https://en.wikipedia.org/wiki/Variance\n",
    "\n",
    "# read the image\n",
    "# convert to 16-bits grayscale since mean filter below is limited \n",
    "# to single channel 8 or 16-bits, not float\n",
    "# and variance will be larger than 8-bit range\n",
    "img = cv2.imread('F:\\internship\\weld bead\\\\5.jpg', cv2.IMREAD_GRAYSCALE).astype(np.uint16)\n",
    "\n",
    "# compute square of image\n",
    "img_sq = cv2.multiply(img, img)\n",
    "\n",
    "# compute local mean in 5x5 rectangular region of each image\n",
    "# note: python will give warning about slower performance when processing 16-bit images\n",
    "region = rectangle(5,5)\n",
    "mean_img = filters.rank.mean(img, selem=region)\n",
    "mean_img_sq = filters.rank.mean(img_sq, selem=region)\n",
    "\n",
    "# compute square of local mean of img\n",
    "sq_mean_img = cv2.multiply(mean_img, mean_img)\n",
    "\n",
    "# compute variance using float versions of images\n",
    "var = cv2.add(mean_img_sq.astype(np.float32), -sq_mean_img.astype(np.float32))\n",
    "\n",
    "# compute standard deviation and convert to 8-bit format\n",
    "std = cv2.sqrt(var).clip(0,255).astype(np.uint8)\n",
    "\n",
    "# save results\n",
    "# multiply by 2 to make brighter as an example\n",
    "cv2.imwrite('lena_std.png',2*std)\n",
    "\n",
    "# show results\n",
    "# multiply by 2 to make brighter as an example\n",
    "cv2.imshow('std', 2*std)  \n",
    "cv2.waitKey(0)\n",
    "cv2.destroyAllWindows()\n"
   ]
  },
  {
   "cell_type": "code",
   "execution_count": null,
   "id": "8e7c8249",
   "metadata": {},
   "outputs": [],
   "source": []
  }
 ],
 "metadata": {
  "kernelspec": {
   "display_name": "Python 3",
   "language": "python",
   "name": "python3"
  },
  "language_info": {
   "codemirror_mode": {
    "name": "ipython",
    "version": 3
   },
   "file_extension": ".py",
   "mimetype": "text/x-python",
   "name": "python",
   "nbconvert_exporter": "python",
   "pygments_lexer": "ipython3",
   "version": "3.8.8"
  }
 },
 "nbformat": 4,
 "nbformat_minor": 5
}
